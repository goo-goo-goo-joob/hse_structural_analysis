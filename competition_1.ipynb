{
 "cells": [
  {
   "cell_type": "markdown",
   "metadata": {
    "id": "3FPyfmuP8l8Q"
   },
   "source": [
    "### Generating an undirected network with the defined statistics"
   ]
  },
  {
   "cell_type": "code",
   "execution_count": 1,
   "metadata": {
    "id": "eSfdONo6jjTL"
   },
   "outputs": [],
   "source": [
    "import multiprocessing\n",
    "from collections import defaultdict\n",
    "\n",
    "import matplotlib.pyplot as plt\n",
    "import networkx as nx\n",
    "import numpy as np\n",
    "import optuna\n",
    "import pandas as pd\n",
    "from scipy.stats import ks_2samp\n",
    "from tqdm.notebook import tqdm"
   ]
  },
  {
   "cell_type": "code",
   "execution_count": 2,
   "metadata": {
    "id": "W6SjL41ojpjC"
   },
   "outputs": [],
   "source": [
    "stats = {\n",
    "    \"number_nodes\": 1882,\n",
    "    \"radius\": [15, 2],\n",
    "    \"diameter\": [28, 4],\n",
    "    \"average_clustering\": [0.005066798238955518, 0.001],\n",
    "    \"average_path_length\": [11.748410823170731, 2],\n",
    "    \"number_cc\": [168, 32],\n",
    "    \"degree_cdf\": [\n",
    "        [0, 1, 2, 3, 4, 5, 6, 7, 8, 9, 10, 11, 12, 13, 14, 15, 16, 17, 19, 21, 24, 46],\n",
    "        [\n",
    "            0.0,\n",
    "            0.6902231668437833,\n",
    "            0.8517534537725824,\n",
    "            0.9086078639744952,\n",
    "            0.9378320935175345,\n",
    "            0.9516471838469713,\n",
    "            0.9654622741764081,\n",
    "            0.9723698193411264,\n",
    "            0.9776833156216791,\n",
    "            0.9808714133900106,\n",
    "            0.9845908607863975,\n",
    "            0.9888416578108395,\n",
    "            0.9893730074388948,\n",
    "            0.9925611052072264,\n",
    "            0.9936238044633369,\n",
    "            0.9952178533475027,\n",
    "            0.9957492029755579,\n",
    "            0.9968119022316685,\n",
    "            0.997874601487779,\n",
    "            0.9989373007438895,\n",
    "            0.9994686503719448,\n",
    "            1.0,\n",
    "        ],\n",
    "    ],\n",
    "}"
   ]
  },
  {
   "cell_type": "code",
   "execution_count": 3,
   "metadata": {
    "id": "precEusrjpez"
   },
   "outputs": [],
   "source": [
    "q_seq, p_seq = stats[\"degree_cdf\"]\n",
    "q_seq = np.array(q_seq)\n",
    "p_seq = np.array(p_seq)"
   ]
  },
  {
   "cell_type": "code",
   "execution_count": 4,
   "metadata": {
    "id": "6bckBgO4j--o"
   },
   "outputs": [],
   "source": [
    "# get the true distribution of nodes degree in the graph\n",
    "degrees_counts = p_seq[1:] * stats[\"number_nodes\"] - p_seq[:-1] * stats[\"number_nodes\"]\n",
    "degrees_dist = []\n",
    "for i in range(len(degrees_counts)):\n",
    "    degrees_dist.extend([q_seq[i + 1]] * int(degrees_counts[i]))"
   ]
  },
  {
   "cell_type": "code",
   "execution_count": 5,
   "metadata": {
    "id": "f7Pg1MmbuJRH"
   },
   "outputs": [],
   "source": [
    "def diff(a, b):\n",
    "    \"\"\"\n",
    "    Get the difference between two dicts\n",
    "    \"\"\"\n",
    "    b_ = defaultdict(int)\n",
    "    for x in a:\n",
    "        b_[x] += 1\n",
    "    for x in b:\n",
    "        b_[x] -= 1\n",
    "    return {k: v for k, v in b_.items() if v > 0}"
   ]
  },
  {
   "cell_type": "code",
   "execution_count": 6,
   "metadata": {
    "id": "ic5zAbWUkDC4"
   },
   "outputs": [],
   "source": [
    "def gaussian_kernel(x, y, sigma):\n",
    "    return np.exp(-((x - y) ** 2) / (2 * sigma ** 2))"
   ]
  },
  {
   "cell_type": "code",
   "execution_count": 7,
   "metadata": {
    "id": "Mj6QtUt_j-5M"
   },
   "outputs": [],
   "source": [
    "def get_score(G):\n",
    "    gcc = max(nx.connected_components(G), key=len)\n",
    "    gcc = G.subgraph(gcc).copy()\n",
    "    average_clustering = nx.average_clustering(G)\n",
    "    average_shortest_path_length = nx.average_shortest_path_length(gcc)\n",
    "    diameter = nx.diameter(gcc)\n",
    "    radius = nx.radius(gcc)\n",
    "    lenG = len([x for x in nx.connected_components(G)])\n",
    "    ks_test = 1 - ks_2samp(degrees_dist, list(dict(G.degree()).values())).statistic\n",
    "\n",
    "    r = {\n",
    "        \"average_clustering\": gaussian_kernel(\n",
    "            average_clustering, *stats[\"average_clustering\"]\n",
    "        ),\n",
    "        \"average_shortest_path_length\": gaussian_kernel(\n",
    "            average_shortest_path_length, *stats[\"average_path_length\"]\n",
    "        ),\n",
    "        \"diameter\": gaussian_kernel(diameter, *stats[\"diameter\"]),\n",
    "        \"radius\": gaussian_kernel(radius, *stats[\"radius\"]),\n",
    "        \"lenG\": gaussian_kernel(lenG, *stats[\"number_cc\"]),\n",
    "        \"ks_test\": ks_test,\n",
    "    }\n",
    "    r[\"sum\"] = 100 * sum(list(r.values())) / 6\n",
    "    if len(G) != 1882 or (0 in dict(G.degree).values()):\n",
    "        r[\"sum\"] = 0\n",
    "    return r"
   ]
  },
  {
   "cell_type": "markdown",
   "metadata": {
    "id": "FJIjyXk-jqIN"
   },
   "source": [
    "#### First, fit the best GCC with defined average_shortest_path_length, diameter and radius"
   ]
  },
  {
   "cell_type": "code",
   "execution_count": 8,
   "metadata": {
    "id": "KfNgWnT0jpco"
   },
   "outputs": [],
   "source": [
    "def objective(trial):\n",
    "    params = {\n",
    "        \"n\": trial.suggest_int(\"n\", 200, 400),\n",
    "        \"k\": trial.suggest_int(\"k\", 2, 6),\n",
    "        \"p\": trial.suggest_float(\"p\", 0.1, 0.9),\n",
    "        \"seed\": trial.suggest_int(\"seed\", 1_000_000, 5_000_000),\n",
    "    }\n",
    "    G = nx.watts_strogatz_graph(**params)\n",
    "    gcc = max(nx.connected_components(G), key=len)\n",
    "    gcc = G.subgraph(gcc).copy()\n",
    "    average_shortest_path_length = nx.average_shortest_path_length(gcc)\n",
    "    diameter = nx.diameter(gcc)\n",
    "    radius = nx.radius(gcc)\n",
    "    return np.array(\n",
    "        [\n",
    "            gaussian_kernel(\n",
    "                average_shortest_path_length, *stats[\"average_path_length\"]\n",
    "            ),\n",
    "            gaussian_kernel(diameter, *stats[\"diameter\"]),\n",
    "            gaussian_kernel(radius, *stats[\"radius\"]),\n",
    "        ]\n",
    "    ).mean()"
   ]
  },
  {
   "cell_type": "code",
   "execution_count": 9,
   "metadata": {
    "id": "xZBtNJG1jpaL"
   },
   "outputs": [],
   "source": [
    "# storage = optuna.storages.RDBStorage('sqlite:///watts_strogatz_graph.db')\n",
    "# study = optuna.create_study(storage=storage, sampler=optuna.samplers.TPESampler(seed=42),\n",
    "#                             study_name='watts_strogatz_graph.2', direction='maximize', load_if_exists=True)\n",
    "# study.optimize(objective, n_trials=5000)"
   ]
  },
  {
   "cell_type": "code",
   "execution_count": 10,
   "metadata": {
    "colab": {
     "base_uri": "https://localhost:8080/"
    },
    "id": "cCN0v4hirGIa",
    "outputId": "72fbe967-1cdc-40c9-8e9e-e55d95946b87"
   },
   "outputs": [
    {
     "data": {
      "text/plain": [
       "{'k': 2, 'n': 248, 'p': 0.6564426354975202, 'seed': 3358684}"
      ]
     },
     "execution_count": 10,
     "metadata": {},
     "output_type": "execute_result"
    }
   ],
   "source": [
    "# params = study.best_params\n",
    "params = {\"k\": 2, \"n\": 248, \"p\": 0.6564426354975202, \"seed\": 3358684}\n",
    "params"
   ]
  },
  {
   "cell_type": "code",
   "execution_count": 11,
   "metadata": {
    "id": "LXaaYKIRl3m6"
   },
   "outputs": [],
   "source": [
    "G = nx.watts_strogatz_graph(**params)\n",
    "gcc = max(nx.connected_components(G), key=len)\n",
    "gcc = G.subgraph(gcc).copy()"
   ]
  },
  {
   "cell_type": "code",
   "execution_count": 12,
   "metadata": {
    "colab": {
     "base_uri": "https://localhost:8080/"
    },
    "id": "pgf3D3pe-Bbo",
    "outputId": "d023bf47-f2d2-4a45-9dc0-1a218957ae8c"
   },
   "outputs": [
    {
     "data": {
      "text/plain": [
       "{'average_clustering': 0.2548069247699286,\n",
       " 'average_shortest_path_length': 0.9999629597005202,\n",
       " 'diameter': 0.9692332344763441,\n",
       " 'ks_test': 0.6847768331562167,\n",
       " 'lenG': 1.6854852873722927e-06,\n",
       " 'radius': 1.0,\n",
       " 'sum': 0}"
      ]
     },
     "execution_count": 12,
     "metadata": {},
     "output_type": "execute_result"
    }
   ],
   "source": [
    "get_score(G)"
   ]
  },
  {
   "cell_type": "code",
   "execution_count": 13,
   "metadata": {
    "colab": {
     "base_uri": "https://localhost:8080/"
    },
    "id": "XLgaPE3sw3xx",
    "outputId": "14893be1-c0d5-4abd-e609-a7a5a9d80bb7"
   },
   "outputs": [
    {
     "data": {
      "text/plain": [
       "129"
      ]
     },
     "execution_count": 13,
     "metadata": {},
     "output_type": "execute_result"
    }
   ],
   "source": [
    "len(gcc)"
   ]
  },
  {
   "cell_type": "code",
   "execution_count": 14,
   "metadata": {
    "colab": {
     "base_uri": "https://localhost:8080/"
    },
    "id": "Uoao4xiVvIth",
    "outputId": "1627529d-bcc2-49b1-dcdf-6548d8b0c3f9"
   },
   "outputs": [
    {
     "data": {
      "text/plain": [
       "{}"
      ]
     },
     "execution_count": 14,
     "metadata": {},
     "output_type": "execute_result"
    }
   ],
   "source": [
    "# no nodes with unnecessary degrees\n",
    "diff(list(dict(gcc.degree()).values()), degrees_dist)"
   ]
  },
  {
   "cell_type": "markdown",
   "metadata": {
    "id": "T_QGsehh-ckS"
   },
   "source": [
    "#### Second, add all the requiered nodes with defined degrees (but the adding components should be less than gcc computed ealier)"
   ]
  },
  {
   "cell_type": "code",
   "execution_count": 15,
   "metadata": {
    "colab": {
     "base_uri": "https://localhost:8080/"
    },
    "id": "httDN5BTrL_t",
    "outputId": "8f148e35-7aeb-42e7-bbd7-d65f4800e7b7"
   },
   "outputs": [
    {
     "data": {
      "text/plain": [
       "{1: 1249,\n",
       " 2: 263,\n",
       " 3: 80,\n",
       " 4: 45,\n",
       " 5: 25,\n",
       " 6: 26,\n",
       " 7: 13,\n",
       " 8: 10,\n",
       " 9: 6,\n",
       " 10: 7,\n",
       " 11: 8,\n",
       " 12: 1,\n",
       " 13: 6,\n",
       " 14: 2,\n",
       " 15: 3,\n",
       " 16: 1,\n",
       " 17: 2,\n",
       " 19: 2,\n",
       " 21: 2,\n",
       " 24: 1,\n",
       " 46: 1}"
      ]
     },
     "execution_count": 15,
     "metadata": {},
     "output_type": "execute_result"
    }
   ],
   "source": [
    "# need to add those nodes to gcc\n",
    "degrees_add = diff(degrees_dist, list(dict(gcc.degree()).values()))\n",
    "degrees_add"
   ]
  },
  {
   "cell_type": "code",
   "execution_count": 16,
   "metadata": {
    "id": "YNZG1iuVvTAo"
   },
   "outputs": [],
   "source": [
    "# form random sequence of degree distribution\n",
    "np.random.seed(42)\n",
    "\n",
    "degrees_dist_add = []\n",
    "for k, v in degrees_add.items():\n",
    "    degrees_dist_add.extend([k] * v)\n",
    "degrees_dist_add = np.random.permutation(degrees_dist_add)"
   ]
  },
  {
   "cell_type": "code",
   "execution_count": 17,
   "metadata": {
    "colab": {
     "base_uri": "https://localhost:8080/"
    },
    "id": "TGZSF1tYYuTr",
    "outputId": "88bf9e54-9542-4ad9-9a88-83deb1854d44"
   },
   "outputs": [
    {
     "data": {
      "text/plain": [
       "1882"
      ]
     },
     "execution_count": 17,
     "metadata": {},
     "output_type": "execute_result"
    }
   ],
   "source": [
    "degrees_dist_add.shape[0] + len(gcc)"
   ]
  },
  {
   "cell_type": "code",
   "execution_count": 18,
   "metadata": {
    "id": "nvVoaZ3h0W3F"
   },
   "outputs": [],
   "source": [
    "# algorithm of adding several componets to the graph (but less than gcc)\n",
    "additional_graphs = [gcc]\n",
    "graphs_configurations = []\n",
    "graphs_configuration = [degrees_dist_add[0]]\n",
    "G_add = None\n",
    "for add in degrees_dist_add[1:]:\n",
    "    if not sum(graphs_configuration) % 2:\n",
    "        G_tmp = nx.configuration_model(graphs_configuration, seed=42)\n",
    "        G_tmp = nx.Graph(G_tmp)\n",
    "        G_tmp.remove_edges_from(nx.selfloop_edges(G_tmp))\n",
    "        if len(max(nx.connected_components(G_tmp), key=len)) < len(gcc):\n",
    "            G_add = G_tmp.copy()\n",
    "            valid_configuration = graphs_configuration.copy()\n",
    "        else:\n",
    "            G_add.remove_edges_from(nx.selfloop_edges(G_add))\n",
    "            G_add = nx.relabel_nodes(\n",
    "                G_add, lambda x: x + 100000 * len(additional_graphs)\n",
    "            )\n",
    "            additional_graphs.append(G_add.copy())\n",
    "            G_add = None\n",
    "            graphs_configurations.append(valid_configuration)\n",
    "            graphs_configuration_new = []\n",
    "            graphs_configuration_new.extend(\n",
    "                graphs_configuration[len(valid_configuration) :]\n",
    "            )\n",
    "            graphs_configuration = graphs_configuration_new.copy()\n",
    "    graphs_configuration.append(add)\n",
    "\n",
    "G_add = nx.configuration_model(graphs_configuration, seed=42)\n",
    "G_add = nx.Graph(G_add)\n",
    "G_add.remove_edges_from(nx.selfloop_edges(G_add))\n",
    "G_add = nx.relabel_nodes(G_add, lambda x: x + 100000 * len(additional_graphs))\n",
    "additional_graphs.append(G_add)\n",
    "graphs_configurations.append(graphs_configuration)"
   ]
  },
  {
   "cell_type": "code",
   "execution_count": 19,
   "metadata": {
    "colab": {
     "base_uri": "https://localhost:8080/"
    },
    "id": "3FnMACR12o2a",
    "outputId": "3e391759-ce42-44e7-dbac-12d20c43ab5e"
   },
   "outputs": [
    {
     "data": {
      "text/plain": [
       "9"
      ]
     },
     "execution_count": 19,
     "metadata": {},
     "output_type": "execute_result"
    }
   ],
   "source": [
    "len(graphs_configurations)"
   ]
  },
  {
   "cell_type": "code",
   "execution_count": 20,
   "metadata": {
    "id": "3Xb6yr6Q2dTC"
   },
   "outputs": [],
   "source": [
    "assert np.sum(degrees_dist_add) == np.sum(\n",
    "    [np.sum(graphs_configuration) for graphs_configuration in graphs_configurations]\n",
    ")"
   ]
  },
  {
   "cell_type": "code",
   "execution_count": 21,
   "metadata": {
    "colab": {
     "base_uri": "https://localhost:8080/"
    },
    "id": "Wx1bE6KtYQLx",
    "outputId": "f68a73ee-d623-4ae3-bb53-a7d3450cbf34"
   },
   "outputs": [
    {
     "data": {
      "text/plain": [
       "1882"
      ]
     },
     "execution_count": 21,
     "metadata": {},
     "output_type": "execute_result"
    }
   ],
   "source": [
    "sum([len(x) for x in additional_graphs])"
   ]
  },
  {
   "cell_type": "code",
   "execution_count": 22,
   "metadata": {
    "id": "WrdAoXEYy3kt"
   },
   "outputs": [],
   "source": [
    "G_final = nx.compose_all(additional_graphs)"
   ]
  },
  {
   "cell_type": "code",
   "execution_count": 23,
   "metadata": {
    "colab": {
     "base_uri": "https://localhost:8080/",
     "height": 265
    },
    "id": "hAc0HmB3hp8f",
    "outputId": "65a01ed7-fc6c-4ba8-818f-5e52ef6a194d"
   },
   "outputs": [
    {
     "data": {
      "image/png": "[encoded data removed]",
      "text/plain": [
       "<Figure size 432x288 with 1 Axes>"
      ]
     },
     "metadata": {
      "needs_background": "light"
     },
     "output_type": "display_data"
    }
   ],
   "source": [
    "# there are a lot of little components\n",
    "plt.hist([len(x) for x in nx.connected_components(G_final)], bins=100);"
   ]
  },
  {
   "cell_type": "code",
   "execution_count": 24,
   "metadata": {
    "colab": {
     "base_uri": "https://localhost:8080/"
    },
    "id": "UAY-gd6j6eU2",
    "outputId": "88828cff-3598-4960-a8a5-40adc95ef198"
   },
   "outputs": [
    {
     "data": {
      "text/plain": [
       "1882"
      ]
     },
     "execution_count": 24,
     "metadata": {},
     "output_type": "execute_result"
    }
   ],
   "source": [
    "len(G_final)"
   ]
  },
  {
   "cell_type": "code",
   "execution_count": 25,
   "metadata": {
    "colab": {
     "base_uri": "https://localhost:8080/"
    },
    "id": "kSIEKfzmCqrP",
    "outputId": "c3cba951-a581-4d64-c9c5-438e2ca5c184"
   },
   "outputs": [
    {
     "data": {
      "text/plain": [
       "0"
      ]
     },
     "execution_count": 25,
     "metadata": {},
     "output_type": "execute_result"
    }
   ],
   "source": [
    "nx.number_of_selfloops(G_final)"
   ]
  },
  {
   "cell_type": "code",
   "execution_count": 26,
   "metadata": {
    "colab": {
     "base_uri": "https://localhost:8080/"
    },
    "id": "FISGKCA7DZPv",
    "outputId": "3397803c-cd8f-4ede-a1bb-788c76daf473"
   },
   "outputs": [
    {
     "data": {
      "text/plain": [
       "1882"
      ]
     },
     "execution_count": 26,
     "metadata": {},
     "output_type": "execute_result"
    }
   ],
   "source": [
    "len(\n",
    "    set(np.array(list(G_final.edges()))[:, 1])\n",
    "    | set(np.array(list(G_final.edges()))[:, 0])\n",
    ")"
   ]
  },
  {
   "cell_type": "code",
   "execution_count": 27,
   "metadata": {
    "colab": {
     "base_uri": "https://localhost:8080/"
    },
    "id": "Wqy0AVhgEA7Y",
    "outputId": "f772b59c-3f9a-4779-f3f1-44ea4ad91124"
   },
   "outputs": [
    {
     "data": {
      "text/plain": [
       "set()"
      ]
     },
     "execution_count": 27,
     "metadata": {},
     "output_type": "execute_result"
    }
   ],
   "source": [
    "# check for not connected nodes\n",
    "set(G_final.nodes()) - (\n",
    "    set(np.array(list(G_final.edges()))[:, 1])\n",
    "    | set(np.array(list(G_final.edges()))[:, 0])\n",
    ")"
   ]
  },
  {
   "cell_type": "code",
   "execution_count": 28,
   "metadata": {
    "id": "u1I5CJYEEEJz"
   },
   "outputs": [],
   "source": [
    "# in case the previous set is not empty - need to add a connection to that nodes\n",
    "# G_final.add_edge(300088, 900050)"
   ]
  },
  {
   "cell_type": "code",
   "execution_count": 29,
   "metadata": {
    "colab": {
     "base_uri": "https://localhost:8080/"
    },
    "id": "u8ttP-gPJUdY",
    "outputId": "63c8c714-d784-4d7f-e5f6-10b9f0049515"
   },
   "outputs": [
    {
     "data": {
      "text/plain": [
       "{'average_clustering': 0.061034084642388436,\n",
       " 'average_shortest_path_length': 0.9999629597005202,\n",
       " 'diameter': 0.9692332344763441,\n",
       " 'ks_test': 0.9946865037194474,\n",
       " 'lenG': 1.2187610094869082e-06,\n",
       " 'radius': 1.0,\n",
       " 'sum': 67.08196668832848}"
      ]
     },
     "execution_count": 29,
     "metadata": {},
     "output_type": "execute_result"
    }
   ],
   "source": [
    "get_score(G_final)"
   ]
  },
  {
   "cell_type": "markdown",
   "metadata": {
    "id": "59oYWAdqA1BK"
   },
   "source": [
    "#### Third, fit the number of connected components\n",
    "\n",
    "There is no algorithm for this (non-automated) - in order not to spoil the distribution (ks-test)"
   ]
  },
  {
   "cell_type": "code",
   "execution_count": 30,
   "metadata": {
    "colab": {
     "base_uri": "https://localhost:8080/"
    },
    "id": "GS7a3xxwEcye",
    "outputId": "7d49e3ae-be49-428e-d1dc-4e3ce6c00edb"
   },
   "outputs": [
    {
     "data": {
      "text/plain": [
       "{4: 3,\n",
       " 6: 1,\n",
       " 7: 1,\n",
       " 8: 3,\n",
       " 11: 2,\n",
       " 13: 3,\n",
       " 15: 1,\n",
       " 17: 2,\n",
       " 19: 2,\n",
       " 21: 1,\n",
       " 24: 1,\n",
       " 46: 1}"
      ]
     },
     "execution_count": 30,
     "metadata": {},
     "output_type": "execute_result"
    }
   ],
   "source": [
    "diff(degrees_dist, list(dict(G_final.degree()).values()))"
   ]
  },
  {
   "cell_type": "code",
   "execution_count": 31,
   "metadata": {
    "id": "tNXPmN9omzj0"
   },
   "outputs": [],
   "source": [
    "base_node46 = [sorted(x) for x in nx.connected_components(G_final) if len(x) == 2][0][0]\n",
    "base_node24 = [sorted(x) for x in nx.connected_components(G_final) if len(x) == 2][0][1]\n",
    "G_final.remove_edge(base_node46, base_node24)\n",
    "\n",
    "for node_pair in [sorted(x) for x in nx.connected_components(G_final) if len(x) == 2][\n",
    "    :23\n",
    "]:\n",
    "    G_final.remove_edge(*node_pair)\n",
    "    G_final.add_edge(base_node46, node_pair[0])\n",
    "    G_final.add_edge(base_node46, node_pair[1])\n",
    "\n",
    "for node_pair in [sorted(x) for x in nx.connected_components(G_final) if len(x) == 2][\n",
    "    :12\n",
    "]:\n",
    "    G_final.remove_edge(*node_pair)\n",
    "    G_final.add_edge(base_node24, node_pair[0])\n",
    "    G_final.add_edge(base_node24, node_pair[1])"
   ]
  },
  {
   "cell_type": "code",
   "execution_count": 32,
   "metadata": {
    "id": "GM93o__grHUT"
   },
   "outputs": [],
   "source": [
    "base_node = [sorted(x) for x in nx.connected_components(G_final) if len(x) == 2][0][0]\n",
    "\n",
    "for node_pair in [sorted(x) for x in nx.connected_components(G_final) if len(x) == 2][\n",
    "    1:60\n",
    "]:\n",
    "    G_final.remove_edge(*node_pair)\n",
    "    G_final.add_edge(base_node, node_pair[0])\n",
    "    G_final.add_edge(base_node, node_pair[1])"
   ]
  },
  {
   "cell_type": "code",
   "execution_count": 33,
   "metadata": {
    "id": "YQOqmK8Hs9e9"
   },
   "outputs": [],
   "source": [
    "base_node = [sorted(x) for x in nx.connected_components(G_final) if len(x) == 2][0][0]\n",
    "\n",
    "for node_pair in [sorted(x) for x in nx.connected_components(G_final) if len(x) == 2][\n",
    "    1:50\n",
    "]:\n",
    "    G_final.remove_edge(*node_pair)\n",
    "    G_final.add_edge(base_node, node_pair[0])\n",
    "    G_final.add_edge(base_node, node_pair[1])"
   ]
  },
  {
   "cell_type": "code",
   "execution_count": 34,
   "metadata": {
    "id": "cgb3lQUmtC6G"
   },
   "outputs": [],
   "source": [
    "base_node1 = [sorted(x) for x in nx.connected_components(G_final) if len(x) == 2][0][0]\n",
    "base_node2 = [sorted(x) for x in nx.connected_components(G_final) if len(x) == 2][0][1]\n",
    "\n",
    "for node_pair in [sorted(x) for x in nx.connected_components(G_final) if len(x) == 2][\n",
    "    :10\n",
    "]:\n",
    "    G_final.remove_edge(*node_pair)\n",
    "    G_final.add_edge(base_node1, node_pair[0])\n",
    "    G_final.add_edge(base_node1, node_pair[1])"
   ]
  },
  {
   "cell_type": "code",
   "execution_count": 35,
   "metadata": {
    "id": "3K9P-NT_tUqP"
   },
   "outputs": [],
   "source": [
    "for node_pair in [sorted(x) for x in nx.connected_components(G_final) if len(x) == 2][\n",
    "    :9\n",
    "]:\n",
    "    G_final.remove_edge(*node_pair)\n",
    "    G_final.add_edge(base_node2, node_pair[0])\n",
    "    G_final.add_edge(base_node2, node_pair[1])"
   ]
  },
  {
   "cell_type": "code",
   "execution_count": 36,
   "metadata": {
    "id": "NG9qV1PQtaoM"
   },
   "outputs": [],
   "source": [
    "base_node = [sorted(x) for x in nx.connected_components(G_final) if len(x) == 2][0][0]\n",
    "\n",
    "for node_pair in [sorted(x) for x in nx.connected_components(G_final) if len(x) == 2][\n",
    "    1:8\n",
    "]:\n",
    "    G_final.remove_edge(*node_pair)\n",
    "    G_final.add_edge(base_node, node_pair[0])\n",
    "    G_final.add_edge(base_node, node_pair[1])"
   ]
  },
  {
   "cell_type": "code",
   "execution_count": 37,
   "metadata": {
    "colab": {
     "base_uri": "https://localhost:8080/"
    },
    "id": "mXnpbv4Dp79G",
    "outputId": "b2add692-2d8d-47e8-8f51-e27addfa4d4f"
   },
   "outputs": [
    {
     "data": {
      "text/plain": [
       "{1: 4, 4: 3, 6: 1, 7: 1, 8: 3, 11: 2, 13: 3, 17: 2, 19: 1}"
      ]
     },
     "execution_count": 37,
     "metadata": {},
     "output_type": "execute_result"
    }
   ],
   "source": [
    "diff(degrees_dist, list(dict(G_final.degree()).values()))"
   ]
  },
  {
   "cell_type": "code",
   "execution_count": 38,
   "metadata": {
    "colab": {
     "base_uri": "https://localhost:8080/"
    },
    "id": "wSXmO6zXxZpf",
    "outputId": "a014c0f6-ac75-4dad-bef5-f5b7d65c484c"
   },
   "outputs": [
    {
     "data": {
      "text/plain": [
       "{3: 4, 5: 6, 10: 2, 12: 2, 16: 2, 18: 1, 35: 1, 99: 1, 119: 1}"
      ]
     },
     "execution_count": 38,
     "metadata": {},
     "output_type": "execute_result"
    }
   ],
   "source": [
    "diff(list(dict(G_final.degree()).values()), degrees_dist)"
   ]
  },
  {
   "cell_type": "code",
   "execution_count": 39,
   "metadata": {
    "colab": {
     "base_uri": "https://localhost:8080/"
    },
    "id": "gtXEct9Gmzhr",
    "outputId": "d178673e-eaa8-47c7-e0b9-8c65012f2f39"
   },
   "outputs": [
    {
     "data": {
      "text/plain": [
       "{'average_clustering': 0.061034084642388436,\n",
       " 'average_shortest_path_length': 0.9999629597005202,\n",
       " 'diameter': 0.9692332344763441,\n",
       " 'ks_test': 0.997874601487779,\n",
       " 'lenG': 1.0,\n",
       " 'radius': 1.0,\n",
       " 'sum': 83.80174800511719}"
      ]
     },
     "execution_count": 39,
     "metadata": {},
     "output_type": "execute_result"
    }
   ],
   "source": [
    "get_score(G_final)"
   ]
  },
  {
   "cell_type": "code",
   "execution_count": 40,
   "metadata": {
    "id": "G4_Rn5Msyxnk"
   },
   "outputs": [],
   "source": [
    "G_final.remove_edges_from(nx.selfloop_edges(G_final))"
   ]
  },
  {
   "cell_type": "code",
   "execution_count": 41,
   "metadata": {
    "colab": {
     "base_uri": "https://localhost:8080/"
    },
    "id": "iCPFMboWy5eS",
    "outputId": "bc67face-cd3e-485f-e341-0b1d1a653eed"
   },
   "outputs": [
    {
     "data": {
      "text/plain": [
       "1882"
      ]
     },
     "execution_count": 41,
     "metadata": {},
     "output_type": "execute_result"
    }
   ],
   "source": [
    "len(G_final)"
   ]
  },
  {
   "cell_type": "code",
   "execution_count": 42,
   "metadata": {
    "colab": {
     "base_uri": "https://localhost:8080/"
    },
    "id": "cC6nr-YNy61n",
    "outputId": "dca0ccd8-3c39-4884-fe0a-c6855be659ac"
   },
   "outputs": [
    {
     "data": {
      "text/plain": [
       "set()"
      ]
     },
     "execution_count": 42,
     "metadata": {},
     "output_type": "execute_result"
    }
   ],
   "source": [
    "set(G_final.nodes()) - (\n",
    "    set(np.array(list(G_final.edges()))[:, 1])\n",
    "    | set(np.array(list(G_final.edges()))[:, 0])\n",
    ")"
   ]
  },
  {
   "cell_type": "code",
   "execution_count": 43,
   "metadata": {
    "colab": {
     "base_uri": "https://localhost:8080/"
    },
    "id": "Qf7kjD3TzDPk",
    "outputId": "832e7a2d-62d1-473d-fc9c-d22ea10e158c"
   },
   "outputs": [
    {
     "data": {
      "text/plain": [
       "1882"
      ]
     },
     "execution_count": 43,
     "metadata": {},
     "output_type": "execute_result"
    }
   ],
   "source": [
    "len(\n",
    "    set(np.array(list(G_final.edges()))[:, 1])\n",
    "    | set(np.array(list(G_final.edges()))[:, 0])\n",
    ")"
   ]
  },
  {
   "cell_type": "markdown",
   "metadata": {
    "id": "8Wbivy_-EMla"
   },
   "source": [
    "#### Fourth, prepare average clustering"
   ]
  },
  {
   "cell_type": "code",
   "execution_count": 44,
   "metadata": {
    "id": "gnIfJ8YLEMSD"
   },
   "outputs": [],
   "source": [
    "base_g = G_final.copy()"
   ]
  },
  {
   "cell_type": "code",
   "execution_count": 45,
   "metadata": {
    "id": "AyOe0xGHEMOt"
   },
   "outputs": [],
   "source": [
    "def task(pack):\n",
    "    \"\"\"\n",
    "    add-del task\n",
    "    \"\"\"\n",
    "    action, a, b = pack\n",
    "    g = base_g.copy()\n",
    "    if action == \"del\":\n",
    "        g.remove_edge(a, b)\n",
    "    if action == \"add\":\n",
    "        g.add_edge(a, b)\n",
    "    g = g.copy()\n",
    "    return {\"action\": action, \"a\": a, \"b\": b, **get_score(g)}"
   ]
  },
  {
   "cell_type": "code",
   "execution_count": 46,
   "metadata": {
    "colab": {
     "base_uri": "https://localhost:8080/"
    },
    "id": "KLuwOgxbEMLz",
    "outputId": "7d681ca6-cd6a-47de-e12d-632279c06f45"
   },
   "outputs": [
    {
     "data": {
      "text/plain": [
       "{'a': 1,\n",
       " 'action': 'del',\n",
       " 'average_clustering': 0.061034084642388436,\n",
       " 'average_shortest_path_length': 0.9999596229832033,\n",
       " 'b': 42,\n",
       " 'diameter': 0.9692332344763441,\n",
       " 'ks_test': 0.997874601487779,\n",
       " 'lenG': 0.9995118379398894,\n",
       " 'radius': 1.0,\n",
       " 'sum': 0}"
      ]
     },
     "execution_count": 46,
     "metadata": {},
     "output_type": "execute_result"
    }
   ],
   "source": [
    "task2((\"del\", 1, 42))"
   ]
  },
  {
   "cell_type": "code",
   "execution_count": 47,
   "metadata": {
    "id": "0bGlr9rREbhB"
   },
   "outputs": [],
   "source": [
    "if __name__ == \"__main__\":\n",
    "    it = 0\n",
    "    for it in range(it, 16):\n",
    "        rnd = np.random.default_rng(202202242 + it)\n",
    "        tasks = []\n",
    "\n",
    "        base_score = get_score(base_g)\n",
    "        assert base_score[\"sum\"] > 0\n",
    "\n",
    "        e = base_g.edges\n",
    "        for r, (a, b) in zip(rnd.random(len(e)), e):\n",
    "            if r < 1:\n",
    "                tasks.append((\"del\", a, b))\n",
    "        for a, b in rnd.integers(0, 1882, (len(tasks), 2)):\n",
    "            if a != b and not base_g.has_edge(a, b):\n",
    "                tasks.append((\"add\", a, b))\n",
    "        r = []\n",
    "        with multiprocessing.Pool(multiprocessing.cpu_count()) as pool:\n",
    "            for x in tqdm(\n",
    "                pool.imap_unordered(task, tasks, chunksize=1), total=len(tasks)\n",
    "            ):\n",
    "                r.append(x)\n",
    "\n",
    "        df = pd.DataFrame(r).sort_values(\"sum\", ascending=False)\n",
    "        df.to_csv(f\"iteration_{it}.csv\")\n",
    "        df = df[df[\"sum\"] > base_score[\"sum\"]]\n",
    "        if len(df) == 0:\n",
    "            print(\"Do nothing\")\n",
    "        else:\n",
    "            row = df.iloc[0]\n",
    "            g = base_g.copy()\n",
    "            action, a, b = row[\"action\"], row[\"a\"], row[\"b\"]\n",
    "            if action == \"del\":\n",
    "                g.remove_edge(a, b)\n",
    "            if action == \"add\":\n",
    "                g.add_edge(a, b)\n",
    "\n",
    "            nx.write_edgelist(g, f\"iteration_{it}.txt\", data=False)\n",
    "\n",
    "            base_g = g.copy()"
   ]
  },
  {
   "cell_type": "code",
   "execution_count": 48,
   "metadata": {
    "id": "ccwKUdcXEbbN"
   },
   "outputs": [],
   "source": [
    "# get the best iteration\n",
    "g = nx.read_edgelist(\"iteration_5.txt\")"
   ]
  },
  {
   "cell_type": "code",
   "execution_count": 49,
   "metadata": {
    "colab": {
     "base_uri": "https://localhost:8080/"
    },
    "id": "Jdz3oxQJE5IS",
    "outputId": "58bd3385-2df3-4283-b3aa-8cdd7a05984b"
   },
   "outputs": [
    {
     "data": {
      "text/plain": [
       "1882"
      ]
     },
     "execution_count": 49,
     "metadata": {},
     "output_type": "execute_result"
    }
   ],
   "source": [
    "len(g)"
   ]
  },
  {
   "cell_type": "code",
   "execution_count": 50,
   "metadata": {
    "colab": {
     "base_uri": "https://localhost:8080/"
    },
    "id": "OfOiUIhqE7Zw",
    "outputId": "14013b13-22ac-4c79-ab56-10b818928ce9"
   },
   "outputs": [
    {
     "data": {
      "text/plain": [
       "{'average_clustering': 0.9999661855570076,\n",
       " 'average_shortest_path_length': 0.9999629597005202,\n",
       " 'diameter': 0.9692332344763441,\n",
       " 'ks_test': 0.9984059511158342,\n",
       " 'lenG': 0.9995118379398894,\n",
       " 'radius': 1.0,\n",
       " 'sum': 99.45133614649325}"
      ]
     },
     "execution_count": 50,
     "metadata": {},
     "output_type": "execute_result"
    }
   ],
   "source": [
    "get_score(g)"
   ]
  },
  {
   "cell_type": "code",
   "execution_count": 51,
   "metadata": {
    "colab": {
     "base_uri": "https://localhost:8080/"
    },
    "id": "yeuI_S9PE7XR",
    "outputId": "285c9f49-d2c4-48b6-bf27-1b863472b473"
   },
   "outputs": [
    {
     "data": {
      "text/plain": [
       "169"
      ]
     },
     "execution_count": 51,
     "metadata": {},
     "output_type": "execute_result"
    }
   ],
   "source": [
    "len([1 for _ in nx.connected_components(g)])"
   ]
  },
  {
   "cell_type": "code",
   "execution_count": 52,
   "metadata": {
    "id": "QljF0Kg1E5FZ"
   },
   "outputs": [],
   "source": [
    "# connect two components\n",
    "base_node0 = [sorted(x) for x in nx.connected_components(g) if len(x) == 47][0][0]\n",
    "base_node1 = [sorted(x) for x in nx.connected_components(g) if len(x) == 38][0][0]\n",
    "\n",
    "g.add_edge(base_node0, base_node1)"
   ]
  },
  {
   "cell_type": "code",
   "execution_count": 53,
   "metadata": {
    "colab": {
     "base_uri": "https://localhost:8080/"
    },
    "id": "wxk2KlhiFHLO",
    "outputId": "a7970129-74ac-4d38-f76a-20422af00438"
   },
   "outputs": [
    {
     "data": {
      "text/plain": [
       "{'average_clustering': 0.9999661855570076,\n",
       " 'average_shortest_path_length': 0.9999629597005202,\n",
       " 'diameter': 0.9692332344763441,\n",
       " 'ks_test': 0.9984059511158342,\n",
       " 'lenG': 1.0,\n",
       " 'radius': 1.0,\n",
       " 'sum': 99.45947218082843}"
      ]
     },
     "execution_count": 53,
     "metadata": {},
     "output_type": "execute_result"
    }
   ],
   "source": [
    "get_score(g)"
   ]
  },
  {
   "cell_type": "code",
   "execution_count": 54,
   "metadata": {
    "id": "s8NJjvu2CJoa"
   },
   "outputs": [],
   "source": [
    "nx.write_edgelist(g, f\"generation_algo.txt\", data=False)"
   ]
  },
  {
   "cell_type": "code",
   "execution_count": 54,
   "metadata": {
    "id": "s_7t57aomdkn"
   },
   "outputs": [],
   "source": []
  }
 ],
 "metadata": {
  "colab": {
   "collapsed_sections": [],
   "name": "samodelkina_competition_1_v2.ipynb",
   "provenance": [],
   "toc_visible": true
  },
  "kernelspec": {
   "display_name": "Python 3 (ipykernel)",
   "language": "python",
   "name": "python3"
  },
  "language_info": {
   "codemirror_mode": {
    "name": "ipython",
    "version": 3
   },
   "file_extension": ".py",
   "mimetype": "text/x-python",
   "name": "python",
   "nbconvert_exporter": "python",
   "pygments_lexer": "ipython3",
   "version": "3.8.10"
  }
 },
 "nbformat": 4,
 "nbformat_minor": 4
}
